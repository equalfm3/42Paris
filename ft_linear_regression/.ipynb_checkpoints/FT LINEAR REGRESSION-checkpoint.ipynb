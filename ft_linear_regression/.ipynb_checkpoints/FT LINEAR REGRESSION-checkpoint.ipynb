{
 "cells": [
  {
   "attachments": {
    "image.png": {
     "image/png": "[encoded data removed]"
    }
   },
   "cell_type": "markdown",
   "metadata": {
    "_cell_guid": "309a7707-125c-ae34-c2f7-8b058e5d85cb"
   },
   "source": [
    "# FT LINEAR REGRESSION\n",
    "The aim of this project is to introduce you to the basic concept behind machine learning.\n",
    "For this project, you will have to create a program that predicts the price of a car by\n",
    "using a linear function train with a gradient descent algorithm.\n",
    "We will work on a precise example for the project, but once you’re done you will be\n",
    "able to use the algorithm with any other dataset.\n",
    "\n",
    "![image.png](attachment:image.png)\n",
    "\n",
    "<a href='#IMPORTS'>IMPORTS</a> <br />\n",
    "<a href='#IMPORTS'>DATA</a> <br />\n",
    "<a href='#IMPORTS'>GRADIENT DESCENT</a> <br />\n",
    "<a href='#IMPORTS'>THETAS</a> <br />\n",
    "<a href='#IMPORTS'>COST FUNCTION</a> <br />\n",
    "<a href='#IMPORTS'>ERROR STATS</a> <br />\n",
    "<a href='#IMPORTS'>REGRESSION ANIMATION</a> <br />\n",
    "<a href='#IMPORTS'>PREDICTION</a> <br />"
   ]
  },
  {
   "cell_type": "markdown",
   "metadata": {},
   "source": [
    "## IMPORTS\n",
    "<a id='IMPORTS'></a>"
   ]
  },
  {
   "cell_type": "code",
   "execution_count": null,
   "metadata": {
    "_cell_guid": "aaade20d-8ecb-a881-7b92-caebb2387f44"
   },
   "outputs": [],
   "source": [
    "import numpy as np \n",
    "import pandas as pd\n",
    "from IPython.display import Image\n",
    "import io\n",
    "import base64\n",
    "from IPython.display import HTML\n",
    "\n",
    "from subprocess import check_output\n",
    "print(check_output([\"ls\", \".\"]).decode(\"utf8\"))"
   ]
  },
  {
   "cell_type": "code",
   "execution_count": null,
   "metadata": {
    "_cell_guid": "e04bc1ac-5df3-e5be-03b6-0d53e60cd2f8"
   },
   "outputs": [],
   "source": [
    "import matplotlib.pyplot as plt\n",
    "import matplotlib.animation as animation\n",
    "\n",
    "data = pd.read_csv('./data.csv')"
   ]
  },
  {
   "cell_type": "markdown",
   "metadata": {},
   "source": [
    "## DATA\n",
    "<a id='DATA'></a>"
   ]
  },
  {
   "cell_type": "code",
   "execution_count": null,
   "metadata": {
    "_cell_guid": "074a42ca-b681-5428-3824-b93e9d91ccff"
   },
   "outputs": [],
   "source": [
    "x = data['km']\n",
    "y = data['price']\n",
    "tempmean=x.mean()\n",
    "tempstd=x.std()\n",
    "tempvar=x.var()\n",
    "x = (x - x.mean()) / x.std()\n",
    "x = np.c_[np.ones(x.shape[0]), x]\n",
    "print(\"\\033[1m\" + \"Our data sample looks like this\" + \"\\033[0m\")\n",
    "print(data)"
   ]
  },
  {
   "cell_type": "markdown",
   "metadata": {},
   "source": [
    "## GRADIENT DESCENT\n",
    "<a id='GRADIENT DESCENT'></a>"
   ]
  },
  {
   "cell_type": "code",
   "execution_count": null,
   "metadata": {
    "_cell_guid": "6a7d5687-9216-0cb4-2543-ed7634fedeb7"
   },
   "outputs": [],
   "source": [
    "alpha = 0.01\n",
    "iterations = 1000\n",
    "m = y.size\n",
    "np.random.seed(123)\n",
    "theta = [0,0]\n",
    "\n",
    "#GRADIENT DESCENT\n",
    "def gradient_descent(x, y, theta, iterations, alpha):\n",
    "    past_costs = []\n",
    "    past_thetas = [theta]\n",
    "    for i in range(iterations):\n",
    "        prediction = np.dot(x, theta)\n",
    "        error = prediction - y\n",
    "        cost = 1/(2*m) * np.dot(error.T, error)\n",
    "        past_costs.append(cost)\n",
    "        theta = theta - (alpha * (1/m) * np.dot(x.T, error))\n",
    "        past_thetas.append(theta)\n",
    "        \n",
    "    return past_thetas, past_costs, error\n",
    "\n",
    "past_thetas, past_costs, error = gradient_descent(x, y, theta, iterations, alpha)\n",
    "theta = past_thetas[-1]\n",
    "\n",
    "print(\"\\033[1m\" + \"Computing thetas finished!\" + \"\\033[0m\")\n",
    "print(\"Gradient Descent: {:.2f}, {:.2f}\".format(theta[0], theta[1]))"
   ]
  },
  {
   "cell_type": "markdown",
   "metadata": {},
   "source": [
    "## THETAS\n",
    "<a id='THETAS'></a>"
   ]
  },
  {
   "cell_type": "code",
   "execution_count": null,
   "metadata": {},
   "outputs": [],
   "source": [
    "plt.title('Theta0 and Theta1 evolution')\n",
    "plt.xlabel('No. of iterations')\n",
    "plt.ylabel('Thetas')\n",
    "plt.plot(past_thetas)\n",
    "plt.show()"
   ]
  },
  {
   "cell_type": "markdown",
   "metadata": {},
   "source": [
    "## COST FUNCTION\n",
    "<a id='DATA'></a>"
   ]
  },
  {
   "cell_type": "code",
   "execution_count": null,
   "metadata": {
    "_cell_guid": "66654649-f2df-fa87-60f7-0498374b9fe3"
   },
   "outputs": [],
   "source": [
    "plt.title('Cost Function J')\n",
    "plt.xlabel('No. of iterations')\n",
    "plt.ylabel('Cost')\n",
    "plt.plot(past_costs)\n",
    "plt.show()"
   ]
  },
  {
   "cell_type": "markdown",
   "metadata": {},
   "source": [
    "## ERROR STATS\n",
    "<a id='ERROR STATS'></a>"
   ]
  },
  {
   "cell_type": "code",
   "execution_count": null,
   "metadata": {},
   "outputs": [],
   "source": [
    "AE = np.sum(np.abs(error))\n",
    "MAE = AE/error.size\n",
    "SE = np.sum(np.square(error))\n",
    "MSE = SE/error.size\n",
    "RMSE = np.sqrt(MSE)\n",
    "rMSE = MSE /tempvar\n",
    "R2=1-rMSE\n",
    "print(\"\\033[1m\" + \"Computing Error stats finished!\" + \"\\033[0m\")\n",
    "print(\"Car Sample size                     \", error.size)\n",
    "print(\"Absolute Error AE is                \", AE)\n",
    "print(\"Mean Absolute Error MAE is          \", MAE)\n",
    "print(\"Squared Error SE is                 \", SE)\n",
    "print(\"Mean Squared Error MSE is           \", MSE)\n",
    "print(\"Root Mean Squared Error RMSE is     \", RMSE)\n",
    "print(\"Relative Mean Squared Error rMSE is \", rMSE)\n",
    "print(\"R squared is                        \", R2)"
   ]
  },
  {
   "cell_type": "markdown",
   "metadata": {},
   "source": [
    "## REGRESSION ANIMATION\n",
    "<a id='DATA'></a>"
   ]
  },
  {
   "cell_type": "code",
   "execution_count": null,
   "metadata": {
    "_cell_guid": "db264665-53c3-e499-c647-a5a01c6c3e99"
   },
   "outputs": [],
   "source": [
    "fig = plt.figure()\n",
    "ax = plt.axes()\n",
    "plt.title('Car Price vs Mileage')\n",
    "plt.xlabel('Mileage in km (normalised)')\n",
    "plt.ylabel('Car Price (€)')\n",
    "plt.scatter(x[:,1], y, color='red')\n",
    "line, = ax.plot([], [], lw=2)\n",
    "annotation1 = ax.text(1.5, 8000, '')\n",
    "annotation1.set_animated(True)\n",
    "annotation2 = ax.text(1.5, 7500, '')\n",
    "annotation2.set_animated(True)\n",
    "annotation3 = ax.text(1.5, 7000, '')\n",
    "annotation3.set_animated(True)\n",
    "plt.close()\n",
    "\n",
    "def init():\n",
    "    line.set_data([], [])\n",
    "    annotation1.set_text('')\n",
    "    return line, annotation1\n",
    "\n",
    "def animate(i):\n",
    "    x = np.linspace(-5, 5, 1000)\n",
    "    y = past_thetas[i][1]*x + past_thetas[i][0]\n",
    "    line.set_data(x, y)\n",
    "    annotation1.set_text('Cost = %.2f e5' % (past_costs[i]/100000))\n",
    "    annotation2.set_text('theta0 = %.2f' % (past_thetas[i][0]))\n",
    "    annotation3.set_text('theta1 = %.2f' % (past_thetas[i][1]))\n",
    "    return line, annotation1\n",
    "\n",
    "anim = animation.FuncAnimation(fig, animate, init_func=init,\n",
    "                               frames=300, interval=0, blit=True)\n",
    "\n",
    "anim.save('animation.gif', writer='imagemagick', fps = 30)\n",
    "print(\"\\033[1m\" + \"Computing animation finished!\" + \"\\033[0m\")"
   ]
  },
  {
   "cell_type": "code",
   "execution_count": null,
   "metadata": {
    "_cell_guid": "1c2c45b4-4e9e-c242-3ede-295ac0bf24df"
   },
   "outputs": [],
   "source": [
    "filename = 'animation.gif'\n",
    "\n",
    "video = io.open(filename, 'r+b').read()\n",
    "encoded = base64.b64encode(video)\n",
    "HTML(data='''<img src=\"data:image/gif;base64,{0}\" type=\"gif\" />'''.format(encoded.decode('ascii')))"
   ]
  },
  {
   "cell_type": "markdown",
   "metadata": {},
   "source": [
    "## PREDICTION\n",
    "<a id='DATA'></a>"
   ]
  },
  {
   "cell_type": "code",
   "execution_count": null,
   "metadata": {},
   "outputs": [],
   "source": [
    "print(\"Please enter a mileage in km\")\n",
    "a = input()\n",
    "if a.isnumeric():\n",
    "    result = ((float(a)-tempmean)/tempstd)*(theta[1]) + theta[0]\n",
    "    print(\"Predicted Car Price for\", a, \"km mileage is\", result, \"€\")\n",
    "    \n",
    "else:\n",
    "    print(\"Please rerun the cell and make sure to enter a real mileage\")"
   ]
  }
 ],
 "metadata": {
  "_change_revision": 117,
  "_is_fork": false,
  "kernelspec": {
   "display_name": "Python 3",
   "language": "python",
   "name": "python3"
  },
  "language_info": {
   "codemirror_mode": {
    "name": "ipython",
    "version": 3
   },
   "file_extension": ".py",
   "mimetype": "text/x-python",
   "name": "python",
   "nbconvert_exporter": "python",
   "pygments_lexer": "ipython3",
   "version": "3.7.4"
  }
 },
 "nbformat": 4,
 "nbformat_minor": 1
}
