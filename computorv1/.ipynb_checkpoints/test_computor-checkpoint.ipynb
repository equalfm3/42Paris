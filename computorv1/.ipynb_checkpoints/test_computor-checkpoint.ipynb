{
 "cells": [
  {
   "cell_type": "markdown",
   "metadata": {},
   "source": [
    "# Computor V1 Tests"
   ]
  },
  {
   "cell_type": "code",
   "execution_count": null,
   "metadata": {},
   "outputs": [],
   "source": [
    "import sys\n",
    "import os\n",
    "\n",
    "# Add the project root directory to Python path\n",
    "sys.path.append(os.path.abspath(os.path.join(os.getcwd(), '..')))\n",
    "\n",
    "from computor import Polynomial\n",
    "\n",
    "# Debug information\n",
    "print(\"Current working directory:\", os.getcwd())\n",
    "print(\"Contents of current directory:\", os.listdir())\n",
    "print(\"Contents of parent directory:\", os.listdir('..'))"
   ]
  },
  {
   "cell_type": "markdown",
   "metadata": {},
   "source": [
    "## Test Function"
   ]
  },
  {
   "cell_type": "code",
   "execution_count": null,
   "metadata": {},
   "outputs": [],
   "source": [
    "def test_equation(equation):\n",
    "    print(f\"Testing equation: {equation}\")\n",
    "    try:\n",
    "        poly = Polynomial(equation)\n",
    "        print(f\"Reduced form: {poly.reduced_form()}\")\n",
    "        print(f\"Polynomial degree: {poly.degree}\")\n",
    "        print(poly.solve())\n",
    "    except ValueError as e:\n",
    "        print(f\"Error: {e}\")\n",
    "    print()"
   ]
  },
  {
   "cell_type": "markdown",
   "metadata": {},
   "source": [
    "## Test Cases"
   ]
  },
  {
   "cell_type": "code",
   "execution_count": null,
   "metadata": {},
   "outputs": [],
   "source": [
    "# Test case 1: Standard second degree equation\n",
    "test_equation(\"5 * X^0 + 4 * X^1 - 9.3 * X^2 = 1 * X^0\")\n",
    "\n",
    "# Test case 2: First degree equation\n",
    "test_equation(\"5 * X^0 + 4 * X^1 = 4 * X^0\")\n",
    "\n",
    "# Test case 3: Third degree equation (should not solve)\n",
    "test_equation(\"8 * X^0 - 6 * X^1 + 0 * X^2 - 5.6 * X^3 = 3 * X^0\")\n",
    "\n",
    "# Test case 4: Equation with all real numbers as solution\n",
    "test_equation(\"42 * X^0 = 42 * X^0\")\n",
    "\n",
    "# Test case 5: Second degree equation with one solution\n",
    "test_equation(\"3 * X^2 + 6 * X^1 + 3 * X^0 = 0\")\n",
    "\n",
    "# Test case 6: Second degree equation with complex solutions\n",
    "test_equation(\"1 * X^2 + 2 * X^1 + 3 * X^0 = 0\")\n",
    "\n",
    "# Test case 7: Equation with negative and non-whole coefficients\n",
    "test_equation(\"-2.5 * X^2 + 4.3 * X^1 - 7.8 * X^0 = 1.2 * X^1 - 3.4 * X^0\")\n",
    "\n",
    "# Test case 8: Free-form entry (bonus feature)\n",
    "test_equation(\"5 + 4X + X^2 = X^2\")\n",
    "\n",
    "# Test case 9: Equation with no solution\n",
    "test_equation(\"0 * X^0 = 5 * X^0\")\n",
    "\n",
    "# Test case 10: Equation with very large coefficients\n",
    "test_equation(\"1000000 * X^2 - 2000000 * X^1 + 1000000 * X^0 = 0\")\n",
    "\n",
    "# Test case 11: Equation with very small coefficients\n",
    "test_equation(\"0.0000001 * X^2 + 0.0000002 * X^1 + 0.0000003 * X^0 = 0\")\n",
    "\n",
    "# Test case 12: Equation with missing terms and implicit multiplication\n",
    "test_equation(\"X^2 + 3 = 0\")\n",
    "\n",
    "# Test case 13: Equation with only X terms\n",
    "test_equation(\"3X = 6\")\n",
    "\n",
    "# Test case 14: Equation with all terms on one side and implicit 1 coefficient\n",
    "test_equation(\"X^2 + 4X + 4 = 0\")\n",
    "\n",
    "# Test case 15: Equation with repeated terms and different notations\n",
    "test_equation(\"2X + 3 * X - X = 5 - 2\")\n",
    "\n",
    "# Test case 16: Equation with fractional and negative exponents (should handle up to X^2)\n",
    "test_equation(\"1/2 * X^2 + 1/3 * X^-1 - 1/6 * X^0.5 = 0\")\n",
    "\n",
    "# Test case 17: Equation with scientific notation and mixed formats\n",
    "test_equation(\"1e-6 * X^2 + 1e-3X + 1 = 0\")\n",
    "\n",
    "# Test case 18: Equation with unusual spacing, mixed formats, and implicit multiplication\n",
    "test_equation(\"  1*X^2-  2X+5=0  \")\n",
    "\n",
    "# Test case 19: Equation with higher degree terms that should be ignored and complex formatting\n",
    "test_equation(\"X^2 + 2x + 1 = 3X^5 + 2x^4 + X\")\n",
    "\n",
    "# Test case 20: Tricky case with multiple decimal points and implicit multiplication\n",
    "test_equation(\"1.5.5 * X^2 + .5X - 3.14 = -.25X^2 + 0.0.5\")"
   ]
  },
  {
   "cell_type": "markdown",
   "metadata": {},
   "source": [
    "## Custom Equation Test"
   ]
  },
  {
   "cell_type": "code",
   "execution_count": null,
   "metadata": {},
   "outputs": [],
   "source": [
    "def run_custom_test():\n",
    "    while True:\n",
    "        custom_equation = input(\"Enter a custom equation (or 'quit' to exit): \")\n",
    "        if custom_equation.lower() == 'quit':\n",
    "            break\n",
    "        test_equation(custom_equation)\n",
    "\n",
    "run_custom_test()"
   ]
  },
  {
   "cell_type": "code",
   "execution_count": null,
   "metadata": {},
   "outputs": [],
   "source": []
  }
 ],
 "metadata": {
  "kernelspec": {
   "display_name": "conda_python3",
   "language": "python",
   "name": "conda_python3"
  },
  "language_info": {
   "codemirror_mode": {
    "name": "ipython",
    "version": 3
   },
   "file_extension": ".py",
   "mimetype": "text/x-python",
   "name": "python",
   "nbconvert_exporter": "python",
   "pygments_lexer": "ipython3",
   "version": "3.10.14"
  }
 },
 "nbformat": 4,
 "nbformat_minor": 4
}
